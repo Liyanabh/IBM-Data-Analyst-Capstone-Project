{
 "cells": [
  {
   "cell_type": "markdown",
   "id": "eb189d07",
   "metadata": {},
   "source": [
    "## Objectives\n",
    "\n",
    "You will be executing this code  so that the client application **Collecting Jobs API**  will be accessing this code executing on the server "
   ]
  },
  {
   "cell_type": "code",
   "execution_count": 1,
   "id": "04a6fe5b",
   "metadata": {},
   "outputs": [
    {
     "name": "stdout",
     "output_type": "stream",
     "text": [
      "Requirement already satisfied: flask in c:\\users\\liyana_bh\\appdata\\local\\programs\\python\\python311\\lib\\site-packages (3.1.2)\n",
      "Requirement already satisfied: blinker>=1.9.0 in c:\\users\\liyana_bh\\appdata\\local\\programs\\python\\python311\\lib\\site-packages (from flask) (1.9.0)\n",
      "Requirement already satisfied: click>=8.1.3 in c:\\users\\liyana_bh\\appdata\\local\\programs\\python\\python311\\lib\\site-packages (from flask) (8.2.1)\n",
      "Requirement already satisfied: itsdangerous>=2.2.0 in c:\\users\\liyana_bh\\appdata\\local\\programs\\python\\python311\\lib\\site-packages (from flask) (2.2.0)\n",
      "Requirement already satisfied: jinja2>=3.1.2 in c:\\users\\liyana_bh\\appdata\\local\\programs\\python\\python311\\lib\\site-packages (from flask) (3.1.6)\n",
      "Requirement already satisfied: markupsafe>=2.1.1 in c:\\users\\liyana_bh\\appdata\\local\\programs\\python\\python311\\lib\\site-packages (from flask) (3.0.2)\n",
      "Requirement already satisfied: werkzeug>=3.1.0 in c:\\users\\liyana_bh\\appdata\\local\\programs\\python\\python311\\lib\\site-packages (from flask) (3.1.3)\n",
      "Requirement already satisfied: colorama in c:\\users\\liyana_bh\\appdata\\local\\programs\\python\\python311\\lib\\site-packages (from click>=8.1.3->flask) (0.4.6)\n"
     ]
    }
   ],
   "source": [
    "!pip install flask"
   ]
  },
  {
   "cell_type": "markdown",
   "id": "6e3ba844",
   "metadata": {},
   "source": [
    "## Dataset Used in this Assignment\n",
    "\n",
    "The dataset used in this lab comes from the following source: https://www.kaggle.com/promptcloud/jobs-on-naukricom under the under a **Public Domain license**.\n",
    "\n",
    "> Note: We are using a modified subset of that dataset for the lab, so to follow the lab instructions successfully please use the dataset provided with the lab, rather than the dataset from the original source.\n",
    "\n",
    "The original dataset is a csv. We have converted the csv to json as per the requirement of the lab."
   ]
  },
  {
   "cell_type": "code",
   "execution_count": 2,
   "id": "c5a6d926",
   "metadata": {},
   "outputs": [
    {
     "name": "stdout",
     "output_type": "stream",
     "text": [
      "jobs.json downloaded successfully!\n"
     ]
    }
   ],
   "source": [
    "import urllib.request\n",
    "\n",
    "url = \"https://cf-courses-data.s3.us.cloud-object-storage.appdomain.cloud/IBM-DA0321EN-SkillsNetwork/labs/module%201/Accessing%20Data%20Using%20APIs/jobs.json\"\n",
    "urllib.request.urlretrieve(url, \"jobs.json\")\n",
    "print(\"jobs.json downloaded successfully!\")"
   ]
  },
  {
   "cell_type": "code",
   "execution_count": 3,
   "id": "90a698c5",
   "metadata": {},
   "outputs": [
    {
     "name": "stderr",
     "output_type": "stream",
     "text": [
      "<>:10: SyntaxWarning: invalid escape sequence '\\+'\n",
      "<>:12: SyntaxWarning: invalid escape sequence '\\#'\n",
      "<>:10: SyntaxWarning: invalid escape sequence '\\+'\n",
      "<>:12: SyntaxWarning: invalid escape sequence '\\#'\n",
      "C:\\Users\\liyana_bh\\AppData\\Local\\Temp\\ipykernel_13424\\2048954028.py:10: SyntaxWarning: invalid escape sequence '\\+'\n",
      "  'C++'    : '(C\\+\\+)',\n",
      "C:\\Users\\liyana_bh\\AppData\\Local\\Temp\\ipykernel_13424\\2048954028.py:12: SyntaxWarning: invalid escape sequence '\\#'\n",
      "  'C#'     : '(C\\#)',\n"
     ]
    },
    {
     "name": "stdout",
     "output_type": "stream",
     "text": [
      " * Serving Flask app '__main__'\n",
      " * Debug mode: off\n"
     ]
    },
    {
     "name": "stderr",
     "output_type": "stream",
     "text": [
      "WARNING: This is a development server. Do not use it in a production deployment. Use a production WSGI server instead.\n",
      " * Running on http://127.0.0.1:5000\n",
      "Press CTRL+C to quit\n"
     ]
    }
   ],
   "source": [
    "import flask\n",
    "from flask import request, jsonify\n",
    "import requests\n",
    "import re\n",
    "\n",
    "def get_data(key,value,current):\n",
    "    results = list()\n",
    "    pattern_dict = {\n",
    "        'C'      : '(C)',\n",
    "        'C++'    : '(C\\+\\+)',\n",
    "        'Java'   :'(Java)',\n",
    "        'C#'     : '(C\\#)',\n",
    "        'Python' :'(Python)',\n",
    "        'Scala' : '(Scala)',\n",
    "        'Oracle' : '(Oracle)',\n",
    "        'SQL Server': '(SQL Server)',\n",
    "        'MySQL Server' :'(MySQL Server)',\n",
    "        'PostgreSQL':'(PostgreSQL)',\n",
    "        'MongoDB'    : '(MongoDB)',\n",
    "        'JavaScript'    : '(JavaScript)',\n",
    "        'Los Angeles' :'(Los Angeles)',\n",
    "        'New York':'(New York)',\n",
    "        'San Francisco':'(San Francisco)',\n",
    "        'Washington DC':'(Washington DC)',\n",
    "        'Seattle':'(Seattle)',\n",
    "        'Austin':'(Austin)',\n",
    "        'Detroit':'(Detroit)',\n",
    "        \n",
    "        \n",
    "        \n",
    "        \n",
    "        \n",
    "    }\n",
    "    for rec in current:\n",
    "        print(rec[key])\n",
    "        print(type(rec[key]))\n",
    "        print(rec[key].find(value))\n",
    "        #if rec[key].find(value) != -1:\n",
    "        import re\n",
    "        #reex_str = \"\"\"(C)|(C\\+\\+)|(JavaScript)|(Java)|(C\\#)|(Python)|(Scala)|(Oracle)|(SQL Server)|(MySQL Server)|(PostgreSQL)|(MongoDB)\"\"\"\n",
    "        if re.search(pattern_dict[value],rec[key]) != None:\n",
    "            results.append(rec)\n",
    "    return results\n",
    "\n",
    "app = flask.Flask(__name__)\n",
    "\n",
    "import json\n",
    "data = None\n",
    "with open('jobs.json',encoding='utf-8') as f:\n",
    "    # returns JSON object as\n",
    "    # a dictionary\n",
    "    data = json.load(f)\n",
    "    \n",
    "    \n",
    "\n",
    "@app.route('/', methods=['GET'])\n",
    "def home():\n",
    "    \n",
    "    return '''<h1>Welcome to flask JOB search API</p>'''\n",
    "\n",
    "\n",
    "@app.route('/data/all', methods=['GET'])\n",
    "def api_all():\n",
    "    return jsonify(data)\n",
    "\n",
    "\n",
    "@app.route('/data', methods=['GET'])\n",
    "def api_id():\n",
    "    # Check if keys such as Job Title,KeySkills, Role Category and others  are provided as part of the URL.\n",
    "    #  Assign the keys to the corresponding variables..\n",
    "    # If no key is provided, display an error in the browser.\n",
    "    res = None\n",
    "    for req in request.args:\n",
    "        \n",
    "        if req == 'Job Title':\n",
    "            key = 'Job Title'\n",
    "        elif req == 'Job Experience Required' :\n",
    "            key='Job Experience Required'\n",
    "        elif req == 'Key Skills' :\n",
    "            key='Key Skills'\n",
    "            \n",
    "        elif req == 'Role Category' :\n",
    "            key='Role Category'\n",
    "        elif req == 'Location' :\n",
    "            key='Location'\n",
    "        \n",
    "        elif req == 'Functional Area' :\n",
    "            key='Functional Area'\n",
    "        \n",
    "        elif req == 'Industry' :\n",
    "            key='Industry'\n",
    "        elif req == 'Role' :\n",
    "            key='Role'\n",
    "        elif req==\"id\":\n",
    "             key=\"id\"\n",
    "        else:\n",
    "            pass\n",
    "    \n",
    "        value = request.args[key]\n",
    "        if (res==None):\n",
    "            res = get_data(key,value,data)\n",
    "        else:\n",
    "            res = get_data(key,value,res)\n",
    "\n",
    "    # Use the jsonify function from Flask to convert our list of\n",
    "    # Python dictionaries to the JSON format.\n",
    "    return jsonify(res)\n",
    "\n",
    "app.run()"
   ]
  },
  {
   "cell_type": "markdown",
   "id": "13ad5455",
   "metadata": {},
   "source": [
    "## Lab: Collect Jobs Data using Jobs API\n",
    "### Objective: Determine the number of jobs currently open for various technologies  and for various locations\n",
    "Collect the number of job postings for the following locations using the API:\n",
    "\n",
    "* Los Angeles\n",
    "* New York\n",
    "* San Francisco\n",
    "* Washington DC\n",
    "* Seattle\n",
    "* Austin\n",
    "* Detroit\n"
   ]
  },
  {
   "cell_type": "code",
   "execution_count": 4,
   "id": "95958412",
   "metadata": {},
   "outputs": [],
   "source": [
    "#Import required libraries\n",
    "import pandas as pd\n",
    "import json"
   ]
  },
  {
   "cell_type": "markdown",
   "id": "e3d4c935",
   "metadata": {},
   "source": [
    "#### Write a function to get the number of jobs for the Python technology.<br>\n",
    "> Note: While using the lab you need to pass the **payload** information for the **params** attribute in the form of **key** **value** pairs.\n",
    "  Refer the ungraded **rest api lab** in the course **Python for Data Science, AI & Development**  <a href=\"https://www.coursera.org/learn/python-for-applied-data-science-ai/ungradedLti/P6sW8/hands-on-lab-access-rest-apis-request-http?utm_medium=Exinfluencer&utm_source=Exinfluencer&utm_content=000026UJ&utm_term=10006555&utm_id=NA-SkillsNetwork-Channel-SkillsNetworkCoursesIBMDA0321ENSkillsNetwork928-2022-01-01\">link</a>\n",
    "  \n",
    " ##### The keys in the json are \n",
    " * Job Title\n",
    " \n",
    " * Job Experience Required\n",
    " \n",
    " * Key Skills\n",
    " \n",
    " * Role Category\n",
    " \n",
    " * Location\n",
    " \n",
    " * Functional Area\n",
    " \n",
    " * Industry\n",
    " \n",
    " * Role \n",
    " \n",
    "You can also view  the json file contents  from the following <a href = \"https://cf-courses-data.s3.us.cloud-object-storage.appdomain.cloud/IBM-DA0321EN-SkillsNetwork/labs/module%201/Accessing%20Data%20Using%20APIs/jobs.json\">json</a> URL.\n"
   ]
  },
  {
   "cell_type": "code",
   "execution_count": 5,
   "id": "6fcfa89f",
   "metadata": {},
   "outputs": [],
   "source": [
    "# Cell 1\n",
    "api_url = \"http://127.0.0.1:5000/data\"\n",
    "\n",
    "def get_number_of_jobs_T(technology):\n",
    "    import requests, re\n",
    "\n",
    "    # Try your local API first (with params as key–value pairs, per lab note)\n",
    "    try:\n",
    "        payload = {\"Key Skills\": technology}\n",
    "        r = requests.get(api_url, params=payload, timeout=10)\n",
    "        r.raise_for_status()\n",
    "        data = r.json()\n",
    "    except Exception:\n",
    "        # Fallback to the course JSON if local API is not available\n",
    "        backup = (\"https://cf-courses-data.s3.us.cloud-object-storage.appdomain.cloud/\"\n",
    "                  \"IBM-DA0321EN-SkillsNetwork/labs/module%201/Accessing%20Data%20Using%20APIs/jobs.json\")\n",
    "        data = requests.get(backup, timeout=20).json()\n",
    "\n",
    "    # The JSON may be a dict with 'jobs' or a raw list\n",
    "    records = data.get(\"jobs\") if isinstance(data, dict) else data\n",
    "\n",
    "    # Count postings where the technology appears in Key Skills or Job Title\n",
    "    count = 0\n",
    "    pattern = re.compile(rf\"\\b{re.escape(technology)}\\b\", flags=re.I)\n",
    "    for row in records:\n",
    "        title = str(row.get(\"Job Title\", \"\"))\n",
    "        skills = str(row.get(\"Key Skills\", \"\"))\n",
    "        if pattern.search(skills) or pattern.search(title):\n",
    "            count += 1\n",
    "\n",
    "    return technology, count\n"
   ]
  },
  {
   "cell_type": "markdown",
   "id": "8e9c6302",
   "metadata": {},
   "source": [
    "Calling the function for Python and checking if it works."
   ]
  },
  {
   "cell_type": "code",
   "execution_count": 6,
   "id": "0ad031c2",
   "metadata": {},
   "outputs": [
    {
     "data": {
      "text/plain": [
       "('Python', 1181)"
      ]
     },
     "execution_count": 6,
     "metadata": {},
     "output_type": "execute_result"
    }
   ],
   "source": [
    "# Cell 2\n",
    "get_number_of_jobs_T(\"Python\")"
   ]
  },
  {
   "cell_type": "markdown",
   "id": "66b1d7ef",
   "metadata": {},
   "source": [
    "#### Write a function to find number of jobs in US for a location of your choice"
   ]
  },
  {
   "cell_type": "code",
   "execution_count": 7,
   "id": "49c4d835",
   "metadata": {},
   "outputs": [],
   "source": [
    "# Cell 3\n",
    "\n",
    "def get_number_of_jobs_L(location):\n",
    "    import requests, re\n",
    "\n",
    "    # Use your local API if available, otherwise fall back to the course JSON\n",
    "    url = globals().get(\"api_url\", \"http://127.0.0.1:5000/data\")\n",
    "    try:\n",
    "        payload = {\"Location\": location}            # pass payload as key–value pair\n",
    "        r = requests.get(url, params=payload, timeout=10)\n",
    "        r.raise_for_status()\n",
    "        data = r.json()\n",
    "    except Exception:\n",
    "        backup = (\"https://cf-courses-data.s3.us.cloud-object-storage.appdomain.cloud/\"\n",
    "                  \"IBM-DA0321EN-SkillsNetwork/labs/module%201/Accessing%20Data%20Using%20APIs/jobs.json\")\n",
    "        data = requests.get(backup, timeout=20).json()\n",
    "\n",
    "    # JSON may be a dict with 'jobs' or a list\n",
    "    records = data.get(\"jobs\") if isinstance(data, dict) else data\n",
    "\n",
    "    # Count rows whose Location mentions the requested city (case-insensitive)\n",
    "    patt = re.compile(rf\"\\b{re.escape(location)}\\b\", re.I)\n",
    "    number_of_jobs = 0\n",
    "    for row in records:\n",
    "        loc_text = str(row.get(\"Location\", \"\"))\n",
    "        if patt.search(loc_text):\n",
    "            number_of_jobs += 1\n",
    "\n",
    "    return location, number_of_jobs"
   ]
  },
  {
   "cell_type": "markdown",
   "id": "08d941ee",
   "metadata": {},
   "source": [
    "Call the function for Los Angeles and check if it is working."
   ]
  },
  {
   "cell_type": "code",
   "execution_count": 8,
   "id": "84f8008d",
   "metadata": {},
   "outputs": [
    {
     "data": {
      "text/plain": [
       "('Los Angeles', 640)"
      ]
     },
     "execution_count": 8,
     "metadata": {},
     "output_type": "execute_result"
    }
   ],
   "source": [
    "# Cell 4\n",
    "get_number_of_jobs_L(\"Los Angeles\")"
   ]
  },
  {
   "cell_type": "markdown",
   "id": "9166f5f5",
   "metadata": {},
   "source": [
    "### Store the results in an excel file\n",
    "Call the API for all the given technologies above and write the results in an excel spreadsheet.\n",
    "If you do not know how create excel file using python, double click here for **hints**.\n",
    "\n",
    "<!--\n",
    "\n",
    "from openpyxl import Workbook        # import Workbook class from module openpyxl\n",
    "wb=Workbook()                        # create a workbook object\n",
    "ws=wb.active                         # use the active worksheet\n",
    "ws.append(['Country','Continent'])   # add a row with two columns 'Country' and 'Continent'\n",
    "ws.append(['Eygpt','Africa'])        # add a row with two columns 'Egypt' and 'Africa'\n",
    "ws.append(['India','Asia'])          # add another row\n",
    "ws.append(['France','Europe'])       # add another row\n",
    "wb.save(\"countries.xlsx\")            # save the workbook into a file called countries.xlsx\n",
    "\n",
    "\n",
    "-->\n",
    "Create a python list of all locations for which you need to find the number of jobs postings."
   ]
  },
  {
   "cell_type": "code",
   "execution_count": 9,
   "id": "1c3021de",
   "metadata": {},
   "outputs": [],
   "source": [
    "# Cell 5\n",
    "locations = [\"Los Angeles\", \"New York\", \"San Francisco\", \n",
    "             \"Washington DC\", \"Seattle\", \"Austin\", \"Detroit\"]"
   ]
  },
  {
   "cell_type": "markdown",
   "id": "011573c4",
   "metadata": {},
   "source": [
    "Import libraries required to create excel spreadsheet"
   ]
  },
  {
   "cell_type": "code",
   "execution_count": 10,
   "id": "945b5481",
   "metadata": {},
   "outputs": [],
   "source": [
    "# Cell 6\n",
    "from openpyxl import Workbook"
   ]
  },
  {
   "cell_type": "markdown",
   "id": "72a1ee56",
   "metadata": {},
   "source": [
    "Create a workbook and select the active worksheet"
   ]
  },
  {
   "cell_type": "code",
   "execution_count": 11,
   "id": "7bd53637",
   "metadata": {},
   "outputs": [],
   "source": [
    "# Cell 7\n",
    "wb = Workbook()\n",
    "ws = wb.active\n",
    "ws.title = \"Job Postings\"\n",
    "\n",
    "# Write header row\n",
    "ws.append([\"Location\", \"Number of Jobs\"])"
   ]
  },
  {
   "cell_type": "markdown",
   "id": "efad0b68",
   "metadata": {},
   "source": [
    "Find the number of jobs postings for each of the location in the above list.\n",
    "Write the Location name and the number of jobs postings into the excel spreadsheet."
   ]
  },
  {
   "cell_type": "code",
   "execution_count": 12,
   "id": "0ce55854",
   "metadata": {},
   "outputs": [],
   "source": [
    "# Cell 8\n",
    "for loc in locations:\n",
    "    loc_name, job_count = get_number_of_jobs_L(loc)\n",
    "    ws.append([loc_name, job_count])"
   ]
  },
  {
   "cell_type": "markdown",
   "id": "91b8dbd5",
   "metadata": {},
   "source": [
    "Save into an excel spreadsheet named 'job-postings.xlsx'."
   ]
  },
  {
   "cell_type": "code",
   "execution_count": null,
   "id": "3bd3671f",
   "metadata": {},
   "outputs": [
    {
     "name": "stdout",
     "output_type": "stream",
     "text": [
      "Excel file 'job-postings.xlsx' created successfully.\n"
     ]
    }
   ],
   "source": [
    "# Cell 9\n",
    "wb.save(\"job-postings1.xlsx\")\n",
    "print(\"Excel file 'job-postings1.xlsx' created successfully.\")"
   ]
  },
  {
   "cell_type": "markdown",
   "id": "6e685105",
   "metadata": {},
   "source": [
    "#### In the similar way, you can try for below given technologies and results  can be stored in an excel sheet.\n",
    "Collect the number of job postings for the following languages using the API:\n",
    "\n",
    "*   C\n",
    "*   C#\n",
    "*   C++\n",
    "*   Java\n",
    "*   JavaScript\n",
    "*   Python\n",
    "*   Scala\n",
    "*   Oracle\n",
    "*   SQL Server\n",
    "*   MySQL Server\n",
    "*   PostgreSQL\n",
    "*   MongoDB"
   ]
  },
  {
   "cell_type": "code",
   "execution_count": 17,
   "id": "916b3a7d",
   "metadata": {},
   "outputs": [
    {
     "name": "stdout",
     "output_type": "stream",
     "text": [
      "Updated Excel file 'job-posting1.xlsx' with technologies sheet.\n"
     ]
    }
   ],
   "source": [
    "# Cell 10\n",
    "\n",
    "# List of technologies\n",
    "technologies = [\n",
    "    \"C\", \"C#\", \"C++\", \"Java\", \"JavaScript\", \"Python\", \"Scala\",\n",
    "    \"Oracle\", \"SQL Server\", \"MySQL Server\", \"PostgreSQL\", \"MongoDB\"\n",
    "]\n",
    "\n",
    "# Create new sheet in the existing workbook\n",
    "ws2 = wb.create_sheet(title=\"Technologies\")\n",
    "ws2.append([\"Technology\", \"Number of Jobs\"])\n",
    "\n",
    "# Loop through each technology and append results\n",
    "for tech in technologies:\n",
    "    tech_name, job_count = get_number_of_jobs_T(tech)\n",
    "    ws2.append([tech_name, job_count])\n",
    "\n",
    "# Save workbook again with the new sheet included\n",
    "wb.save(\"job-postings1.xlsx\")\n",
    "print(\"Updated Excel file 'job-posting1.xlsx' with technologies sheet.\")\n"
   ]
  }
 ],
 "metadata": {
  "kernelspec": {
   "display_name": "Python 3",
   "language": "python",
   "name": "python3"
  },
  "language_info": {
   "codemirror_mode": {
    "name": "ipython",
    "version": 3
   },
   "file_extension": ".py",
   "mimetype": "text/x-python",
   "name": "python",
   "nbconvert_exporter": "python",
   "pygments_lexer": "ipython3",
   "version": "3.12.0"
  }
 },
 "nbformat": 4,
 "nbformat_minor": 5
}
